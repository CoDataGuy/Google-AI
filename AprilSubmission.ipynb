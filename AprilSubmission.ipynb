{
 "cells": [
  {
   "cell_type": "markdown",
   "metadata": {},
   "source": [
    "# Introduciton and Scope: AI Agent as Data Scientist Assistant\n",
    "I tackled this assignment as a POC to see what stages of data science project could an AI assistant help with to save time.  This POC focuses on the systems ability explore data and perform analysis.  \n",
    "\n",
    "My next step is to extent the POC to include data collection and exploration, data cleaning and preparation, and evauation as it seems likely that if properly grounded in domain specific knowledge the system maybe able to identify patterns that explain the results.\n",
    "\n",
    "### Functions Demonstated\n",
    " -  Prompt Engineering\n",
    " -  Zero Shot Prompting\n",
    " -  Function Calling\n",
    " -  Compositional Function Calling\n",
    "<br>\n",
    "### Future Phases\n",
    " - #### Grounding\n",
    "     - RAG - Document grounding to provide definition to esoteric terms and database meta data\n",
    "     - Google Search\n",
    " - Loooping Chat Bot - facilitate Chain of Thought prompting\n",
    " - Data Acquistion via google search"
   ]
  },
  {
   "cell_type": "markdown",
   "metadata": {},
   "source": [
    "# Setup and Prerequisites (provided in labs)"
   ]
  },
  {
   "cell_type": "code",
   "execution_count": 1,
   "metadata": {
    "_cell_guid": "b1076dfc-b9ad-4769-8c92-a6c4dae69d19",
    "_uuid": "8f2839f25d086af736a60e9eeb907d3b93b6e0e5",
    "execution": {
     "iopub.execute_input": "2025-04-21T15:53:23.438786Z",
     "iopub.status.busy": "2025-04-21T15:53:23.438420Z",
     "iopub.status.idle": "2025-04-21T15:53:23.796338Z",
     "shell.execute_reply": "2025-04-21T15:53:23.795060Z",
     "shell.execute_reply.started": "2025-04-21T15:53:23.438757Z"
    },
    "trusted": true
   },
   "outputs": [
    {
     "name": "stdout",
     "output_type": "stream",
     "text": [
      "The history saving thread hit an unexpected error (OperationalError('attempt to write a readonly database')).History will not be written to the database.\n"
     ]
    }
   ],
   "source": [
    "# This Python 3 environment comes with many helpful analytics libraries installed\n",
    "# It is defined by the kaggle/python Docker image: https://github.com/kaggle/docker-python\n",
    "# For example, here's several helpful packages to load\n",
    "\n",
    "import numpy as np # linear algebra\n",
    "import pandas as pd # data processing, CSV file I/O (e.g. pd.read_csv)\n",
    "import scipy\n",
    "\n",
    "# Input data files are available in the read-only \"../input/\" directory\n",
    "# For example, running this (by clicking run or pressing Shift+Enter) will list all files under the input directory\n",
    "\n",
    "import os\n",
    "for dirname, _, filenames in os.walk('/kaggle/input'):\n",
    "    for filename in filenames:\n",
    "        print(os.path.join(dirname, filename))\n",
    "\n",
    "# You can write up to 20GB to the current directory (/kaggle/working/) that gets preserved as output when you create a version using \"Save & Run All\" \n",
    "# You can also write temporary files to /kaggle/temp/, but they won't be saved outside of the current session"
   ]
  },
  {
   "cell_type": "code",
   "execution_count": 2,
   "metadata": {
    "execution": {
     "iopub.execute_input": "2025-04-21T15:53:27.328037Z",
     "iopub.status.busy": "2025-04-21T15:53:27.327617Z",
     "iopub.status.idle": "2025-04-21T15:53:36.762339Z",
     "shell.execute_reply": "2025-04-21T15:53:36.761082Z",
     "shell.execute_reply.started": "2025-04-21T15:53:27.328012Z"
    },
    "trusted": true
   },
   "outputs": [
    {
     "name": "stdout",
     "output_type": "stream",
     "text": [
      "\u001b[2K   \u001b[90m━━━━━━━━━━━━━━━━━━━━━━━━━━━━━━━━━━━━━━━━\u001b[0m \u001b[32m144.7/144.7 kB\u001b[0m \u001b[31m4.1 MB/s\u001b[0m eta \u001b[36m0:00:00\u001b[0m\n",
      "\u001b[2K   \u001b[90m━━━━━━━━━━━━━━━━━━━━━━━━━━━━━━━━━━━━━━━━\u001b[0m \u001b[32m100.9/100.9 kB\u001b[0m \u001b[31m5.3 MB/s\u001b[0m eta \u001b[36m0:00:00\u001b[0m\n",
      "\u001b[?25h"
     ]
    }
   ],
   "source": [
    "# Uninstall packages from Kaggle base image that are not needed.\n",
    "!pip uninstall -qy jupyterlab jupyterlab-lsp\n",
    "# Install the google-genai SDK for this codelab.\n",
    "!pip install -qU 'google-genai==1.7.0'"
   ]
  },
  {
   "cell_type": "code",
   "execution_count": 3,
   "metadata": {
    "execution": {
     "iopub.execute_input": "2025-04-21T15:53:53.387487Z",
     "iopub.status.busy": "2025-04-21T15:53:53.387095Z",
     "iopub.status.idle": "2025-04-21T15:53:55.066941Z",
     "shell.execute_reply": "2025-04-21T15:53:55.065910Z",
     "shell.execute_reply.started": "2025-04-21T15:53:53.387453Z"
    },
    "trusted": true
   },
   "outputs": [],
   "source": [
    "from google import genai\n",
    "from google.genai import types\n",
    "\n",
    "from IPython.display import Markdown, HTML, display\n",
    "\n",
    "# genai.__version__"
   ]
  },
  {
   "cell_type": "markdown",
   "metadata": {},
   "source": [
    "### Set API Keys"
   ]
  },
  {
   "cell_type": "code",
   "execution_count": 4,
   "metadata": {
    "execution": {
     "iopub.execute_input": "2025-04-21T15:54:01.621545Z",
     "iopub.status.busy": "2025-04-21T15:54:01.621068Z",
     "iopub.status.idle": "2025-04-21T15:54:02.325896Z",
     "shell.execute_reply": "2025-04-21T15:54:02.324963Z",
     "shell.execute_reply.started": "2025-04-21T15:54:01.621516Z"
    },
    "trusted": true
   },
   "outputs": [],
   "source": [
    "from kaggle_secrets import UserSecretsClient\n",
    "\n",
    "GOOGLE_API_KEY = UserSecretsClient().get_secret(\"GOOGLE_API_KEY\")\n",
    "\n",
    "client = genai.Client(api_key=GOOGLE_API_KEY)"
   ]
  },
  {
   "cell_type": "markdown",
   "metadata": {},
   "source": [
    "# Data for Analysis\n",
    "Building the Slolom Data Set without AI Agent Agent Assitance\n",
    "Next version add (1) Google Search as a tool to acquire data (2) LLM to gen Python to import data into db Table or panda dataframe.\n",
    "\n",
    "Data from [FIS](https://www.fis-ski.com/DB/general/results.html?sectorcode=AL&competitorid=174158&raceid=123171#down:~:text=Results%2C%20Analysis%2C%20Standings-,Download,-(1.33%20MB))"
   ]
  },
  {
   "cell_type": "code",
   "execution_count": 5,
   "metadata": {
    "execution": {
     "iopub.execute_input": "2025-04-21T15:54:07.117037Z",
     "iopub.status.busy": "2025-04-21T15:54:07.116739Z",
     "iopub.status.idle": "2025-04-21T15:54:07.127782Z",
     "shell.execute_reply": "2025-04-21T15:54:07.126663Z",
     "shell.execute_reply.started": "2025-04-21T15:54:07.117013Z"
    },
    "trusted": true
   },
   "outputs": [],
   "source": [
    "# Data for Women's Slalom Top 20 - Sun Valley 2025\n",
    "Wdata = [\n",
    "    [\"Mikaela Shiffrin\", \"USA\", 52.00, 53.92, 105.92],\n",
    "    [\"Lena Dürr\", \"GER\", 52.50, 54.55, 107.05],\n",
    "    [\"Andreja Slokar\", \"SLO\", 52.80, 54.50, 107.30],\n",
    "    [\"Katharina Liensberger\", \"AUT\", 53.00, 54.60, 107.60],\n",
    "    [\"Camille Rast\", \"SUI\", 53.20, 54.70, 107.90],\n",
    "    [\"Wendy Holdener\", \"SUI\", 53.40, 54.80, 108.20],\n",
    "    [\"Anna Swenn-Larsson\", \"SWE\", 53.60, 54.90, 108.50],\n",
    "    [\"Michelle Gisin\", \"SUI\", 53.80, 55.00, 108.80],\n",
    "    [\"Sara Hector\", \"SWE\", 54.00, 55.10, 109.10],\n",
    "    [\"Zrinka Ljutić\", \"CRO\", 54.20, 55.20, 109.40],\n",
    "    [\"Katharina Truppe\", \"AUT\", 54.40, 55.30, 109.70],\n",
    "    [\"Katharina Huber\", \"AUT\", 54.60, 55.40, 110.00],\n",
    "    [\"Mina Fürst Holtmann\", \"NOR\", 54.80, 55.50, 110.30],\n",
    "    [\"Cornelia Öhlund\", \"SWE\", 55.00, 55.60, 110.60],\n",
    "    [\"Emma Aicher\", \"GER\", 55.20, 55.70, 110.90],\n",
    "    [\"Laurence St-Germain\", \"CAN\", 55.40, 55.80, 111.20],\n",
    "    [\"Marie Lamure\", \"FRA\", 55.60, 55.90, 111.50],\n",
    "    [\"Neja Dvornik\", \"SLO\", 55.80, 56.00, 111.80],\n",
    "    [\"Hanna Aronsson Elfman\", \"SWE\", 56.00, 56.10, 112.10],\n",
    "    [\"Ali Nullmeyer\", \"CAN\", 56.20, 56.30, 112.50],\n",
    "]\n",
    "\n",
    "mens_results = [\n",
    "    [\"Timon Haugan\", \"NOR\", \"1:00.45\", \"1:00.12\", \"2:00.57\"],\n",
    "    [\"Clément Noël\", \"FRA\", \"1:00.50\", \"1:00.10\", \"2:00.60\"],\n",
    "    [\"Fabio Gstrein\", \"AUT\", \"1:00.70\", \"1:00.30\", \"2:01.00\"],\n",
    "    [\"Henrik Kristoffersen\", \"NOR\", \"1:00.80\", \"1:00.40\", \"2:01.20\"],\n",
    "    [\"Loïc Meillard\", \"SUI\", \"1:01.00\", \"1:00.50\", \"2:01.50\"],\n",
    "    [\"Lucas Pinheiro Braathen\", \"BRA\", \"1:01.10\", \"1:00.60\", \"2:01.70\"],\n",
    "    [\"Daniel Yule\", \"SUI\", \"1:01.20\", \"1:00.70\", \"2:01.90\"],\n",
    "    [\"Manuel Feller\", \"AUT\", \"1:01.30\", \"1:00.80\", \"2:02.10\"],\n",
    "    [\"Alex Vinatzer\", \"ITA\", \"1:01.40\", \"1:00.90\", \"2:02.30\"],\n",
    "    [\"Sebastian Foss-Solevåg\", \"NOR\", \"1:01.50\", \"1:01.00\", \"2:02.50\"],\n",
    "    [\"Ramon Zenhäusern\", \"SUI\", \"1:01.60\", \"1:01.10\", \"2:02.70\"],\n",
    "    [\"Dave Ryding\", \"GBR\", \"1:01.70\", \"1:01.20\", \"2:02.90\"],\n",
    "    [\"Albert Popov\", \"BUL\", \"1:01.80\", \"1:01.30\", \"2:03.10\"],\n",
    "    [\"Giuliano Razzoli\", \"ITA\", \"1:01.90\", \"1:01.40\", \"2:03.30\"],\n",
    "    [\"Erik Read\", \"CAN\", \"1:02.00\", \"1:01.50\", \"2:03.50\"],\n",
    "    [\"Jett Seymour\", \"USA\", \"1:02.10\", \"1:01.60\", \"2:03.70\"],\n",
    "    [\"Filip Zubčić\", \"CRO\", \"1:02.20\", \"1:01.70\", \"2:03.90\"],\n",
    "    [\"Stefan Hadalin\", \"SLO\", \"1:02.30\", \"1:01.80\", \"2:04.10\"],\n",
    "    [\"River Radamus\", \"USA\", \"1:02.40\", \"1:01.90\", \"2:04.30\"],\n",
    "]\n"
   ]
  },
  {
   "cell_type": "markdown",
   "metadata": {},
   "source": [
    "## Database Build"
   ]
  },
  {
   "cell_type": "code",
   "execution_count": 6,
   "metadata": {
    "execution": {
     "iopub.execute_input": "2025-04-21T15:54:11.699063Z",
     "iopub.status.busy": "2025-04-21T15:54:11.698789Z",
     "iopub.status.idle": "2025-04-21T15:54:12.650637Z",
     "shell.execute_reply": "2025-04-21T15:54:12.649591Z",
     "shell.execute_reply.started": "2025-04-21T15:54:11.699040Z"
    },
    "trusted": true
   },
   "outputs": [],
   "source": [
    "%load_ext sql\n",
    "%sql sqlite:///sample.db"
   ]
  },
  {
   "cell_type": "code",
   "execution_count": 7,
   "metadata": {
    "execution": {
     "iopub.execute_input": "2025-04-21T15:54:16.299800Z",
     "iopub.status.busy": "2025-04-21T15:54:16.299250Z",
     "iopub.status.idle": "2025-04-21T15:54:16.349307Z",
     "shell.execute_reply": "2025-04-21T15:54:16.348126Z",
     "shell.execute_reply.started": "2025-04-21T15:54:16.299759Z"
    },
    "trusted": true
   },
   "outputs": [
    {
     "name": "stdout",
     "output_type": "stream",
     "text": [
      " * sqlite:///sample.db\n",
      "Done.\n",
      "Done.\n"
     ]
    },
    {
     "data": {
      "text/plain": [
       "[]"
      ]
     },
     "execution_count": 7,
     "metadata": {},
     "output_type": "execute_result"
    }
   ],
   "source": [
    "%%sql\n",
    "CREATE TABLE IF NOT EXISTS WomenSL (\n",
    "    wsl_Id INTEGER PRIMARY KEY AUTOINCREMENT\n",
    "    ,Skier_NME VARCHAR(100) NOT NULL\n",
    "    ,Country_CD VARCHAR(3) NOT NULL\n",
    "    ,Run1 DECIMAL(3,4) NOT NULL\n",
    "    ,Run2 DECIMAL(3,4) NOT NULL\n",
    "    ,TotalTime DECIMAL(3,4) NOT NULL\n",
    ");\n",
    "\n",
    "CREATE TABLE IF NOT EXISTS MenSL (\n",
    "    msl_Id INTEGER PRIMARY KEY AUTOINCREMENT\n",
    "    ,Skier_NME VARCHAR(100) NOT NULL\n",
    "    ,Country_CD VARCHAR(3) NOT NULL\n",
    "    ,Run1 DECIMAL(3,4) NOT NULL\n",
    "    ,Run2 DECIMAL(3,4) NOT NULL\n",
    "    ,TotalTime DECIMAL(3,4) NOT NULL\n",
    ");"
   ]
  },
  {
   "cell_type": "markdown",
   "metadata": {},
   "source": [
    "## Explicitly populate database\n",
    "Future state (It would probably work in the current state) have the Agent generate and run the code to perfom the Insert operation.  \n",
    " "
   ]
  },
  {
   "cell_type": "code",
   "execution_count": 8,
   "metadata": {
    "execution": {
     "iopub.execute_input": "2025-04-21T15:54:21.982446Z",
     "iopub.status.busy": "2025-04-21T15:54:21.982069Z",
     "iopub.status.idle": "2025-04-21T15:54:21.990944Z",
     "shell.execute_reply": "2025-04-21T15:54:21.989961Z",
     "shell.execute_reply.started": "2025-04-21T15:54:21.982408Z"
    },
    "trusted": true
   },
   "outputs": [
    {
     "data": {
      "text/plain": [
       "<sqlite3.Cursor at 0x7b47c0afe4c0>"
      ]
     },
     "execution_count": 8,
     "metadata": {},
     "output_type": "execute_result"
    }
   ],
   "source": [
    "import sqlite3\n",
    "conn = sqlite3.connect(\"sample.db\")\n",
    "cursor = conn.cursor()\n",
    "\n",
    "cursor.executemany(\"\"\"\n",
    "    INSERT INTO WomenSL (Skier_Nme, Country_CD, Run1, Run2, TotalTime)\n",
    "    VALUES (?, ?, ? ,? ,?)\n",
    "\"\"\", Wdata)\n",
    "\n",
    "cursor.executemany(\"\"\"\n",
    "    INSERT INTO MenSL (Skier_Nme, Country_CD, Run1, Run2, TotalTime)\n",
    "    VALUES (?, ?, ? ,? ,?)\n",
    "\"\"\", mens_results)\n"
   ]
  },
  {
   "cell_type": "markdown",
   "metadata": {},
   "source": [
    "## Build db Tools for Agent to use \n",
    "### Add functions so engine can examine and perform database operations\n",
    "[Modified from Day 3 - Function calling with the Gemini API](https://www.kaggle.com/code/markishere/day-3-function-calling-with-the-gemini-api) Copyright 2025 Google LLC."
   ]
  },
  {
   "cell_type": "code",
   "execution_count": 9,
   "metadata": {
    "execution": {
     "iopub.execute_input": "2025-04-21T15:54:27.436017Z",
     "iopub.status.busy": "2025-04-21T15:54:27.435728Z",
     "iopub.status.idle": "2025-04-21T15:54:27.443090Z",
     "shell.execute_reply": "2025-04-21T15:54:27.442187Z",
     "shell.execute_reply.started": "2025-04-21T15:54:27.435996Z"
    },
    "trusted": true
   },
   "outputs": [],
   "source": [
    "def execute_query(sql: str) -> list[list[str]]:\n",
    "    \"\"\"Execute an SQL statement, returning the results.\"\"\"\n",
    "    print(f' - DB CALL: execute_query({sql})')\n",
    "\n",
    "    cursor = conn.cursor()\n",
    "\n",
    "    cursor.execute(sql)\n",
    "    return cursor.fetchall()\n",
    "    \n",
    "## pull list of tables to identify where to permorm DML\n",
    "def list_tables() -> list[str]:\n",
    "    \"\"\"Retrieve the names of all tables in the database.\"\"\"\n",
    "    # Include print logging statements so you can see when functions are being called.\n",
    "    print(' - DB CALL: list_tables()')\n",
    "\n",
    "    cursor = conn.cursor()\n",
    "\n",
    "    # Fetch the table names.\n",
    "    cursor.execute(\"SELECT name FROM sqlite_master WHERE type='table';\")\n",
    "\n",
    "    tables = cursor.fetchall()\n",
    "    return [t[0] for t in tables]\n",
    "\n",
    "## Describe Tables for DML Ops\n",
    "def describe_table(table_name: str) -> list[tuple[str, str]]:\n",
    "    \"\"\"Look up the table schema.\n",
    "\n",
    "    Returns:\n",
    "      List of columns, where each entry is a tuple of (column, type).\n",
    "    \"\"\"\n",
    "    print(f' - DB CALL: describe_table({table_name})')\n",
    "\n",
    "    cursor = conn.cursor()\n",
    "\n",
    "    cursor.execute(f\"PRAGMA table_info({table_name});\")\n",
    "\n",
    "    schema = cursor.fetchall()\n",
    "    # [column index, column name, column type, ...]\n",
    "    return [(col[1], col[2]) for col in schema]\n",
    "\n",
    "\n",
    "# list of db tools for AI \n",
    "db_tools = [list_tables, describe_table, execute_query]"
   ]
  },
  {
   "cell_type": "markdown",
   "metadata": {},
   "source": [
    "# Create Inital Agent with instructions"
   ]
  },
  {
   "cell_type": "code",
   "execution_count": 10,
   "metadata": {
    "execution": {
     "iopub.execute_input": "2025-04-21T15:54:38.500795Z",
     "iopub.status.busy": "2025-04-21T15:54:38.500476Z",
     "iopub.status.idle": "2025-04-21T15:54:38.630831Z",
     "shell.execute_reply": "2025-04-21T15:54:38.629769Z",
     "shell.execute_reply.started": "2025-04-21T15:54:38.500770Z"
    },
    "trusted": true
   },
   "outputs": [],
   "source": [
    "instruction = \"\"\"You are a helpful chatbot that aids the user in performing statistical analysis of ski race results which are stored and you can update in a \n",
    "SQL database  You will take the users questions, search for the relevant data online, store them in SQL Databases and translate questions into SQL\n",
    "queries using the tools available. Once you have the information you need, you will\n",
    "answer the user's question using the data returned.\n",
    "\n",
    "Use list_tables to see what tables are present, describe_table to understand the\n",
    "schema, and execute_query to issue an SQL SELECT query.\n",
    "\n",
    "Use descriptive and inferential statistics selecting the most appropriate method based on user's question\n",
    "assume race results are a population and not a sample\n",
    "\n",
    "\"\"\"\n",
    "\n",
    "client = genai.Client(api_key=GOOGLE_API_KEY)\n",
    "\n",
    "# Start a chat with automatic function calling enabled.\n",
    "chat = client.chats.create(\n",
    "    model=\"gemini-2.0-flash\",\n",
    "    config=types.GenerateContentConfig(\n",
    "        system_instruction=instruction,\n",
    "        tools=db_tools,\n",
    "    ),\n",
    ")"
   ]
  },
  {
   "cell_type": "markdown",
   "metadata": {},
   "source": [
    "### Retry Policy (if needed)"
   ]
  },
  {
   "cell_type": "code",
   "execution_count": 11,
   "metadata": {
    "execution": {
     "iopub.execute_input": "2025-04-21T15:54:44.846276Z",
     "iopub.status.busy": "2025-04-21T15:54:44.845950Z",
     "iopub.status.idle": "2025-04-21T15:54:45.148492Z",
     "shell.execute_reply": "2025-04-21T15:54:45.147555Z",
     "shell.execute_reply.started": "2025-04-21T15:54:44.846250Z"
    },
    "trusted": true
   },
   "outputs": [],
   "source": [
    "# Define a retry policy. The model might make multiple consecutive calls automatically\n",
    "# for a complex query, this ensures the client retries if it hits quota limits.\n",
    "from google.api_core import retry\n",
    "\n",
    "is_retriable = lambda e: (isinstance(e, genai.errors.APIError) and e.code in {429, 503})\n",
    "\n",
    "if not hasattr(genai.models.Models.generate_content, '__wrapped__'):\n",
    "  genai.models.Models.generate_content = retry.Retry(\n",
    "      predicate=is_retriable)(genai.models.Models.generate_content)"
   ]
  },
  {
   "cell_type": "markdown",
   "metadata": {},
   "source": [
    "<div class=\"alert alert-block alert-warning\">\n",
    "<b>Test 1:</b> without specific instructions guiding agent to which table holds women's results <br>   \n",
    "<b> Prompt::</b> resp = chat.send_message(\"who was the fastes woman skier?\"\n",
    "</div>\n",
    "\n",
    " \n",
    "\n",
    "\n",
    "\n",
    "="
   ]
  },
  {
   "cell_type": "code",
   "execution_count": 12,
   "metadata": {
    "execution": {
     "iopub.execute_input": "2025-04-21T15:54:49.477897Z",
     "iopub.status.busy": "2025-04-21T15:54:49.476598Z",
     "iopub.status.idle": "2025-04-21T15:54:51.749163Z",
     "shell.execute_reply": "2025-04-21T15:54:51.748437Z",
     "shell.execute_reply.started": "2025-04-21T15:54:49.477861Z"
    },
    "trusted": true
   },
   "outputs": [
    {
     "name": "stdout",
     "output_type": "stream",
     "text": [
      " - DB CALL: execute_query(SELECT skier_name FROM race_results WHERE gender = 'female' ORDER BY time ASC LIMIT 1)\n",
      "\n",
      "I am sorry, I cannot fulfill this request. I do not have access to a table called race_results. Would you like me to list the tables I have access to?\n",
      "\n"
     ]
    }
   ],
   "source": [
    "resp = chat.send_message(\"who was the fastes woman skier?\")\n",
    "print(f\"\\n{resp.text}\")"
   ]
  },
  {
   "cell_type": "markdown",
   "metadata": {},
   "source": [
    "## Halucination\n",
    "<div class=\"alert alert-block alert-info\">\n",
    "This is an interesting hallucination as neither that table nor those columns exist in the sample db\n",
    "the agent is not using the availale list_tables() function/ tool or is unable to decode the table name WomenSL\n",
    "</div>\n",
    "\n",
    "\n",
    "## Change instructions for agent\n",
    "<div class=\"alert alert-block alert-warning\">\n",
    "<b>Change Instruction:</b> explicityly specify where women's data is located\n",
    "</div>\n"
   ]
  },
  {
   "cell_type": "code",
   "execution_count": 13,
   "metadata": {
    "execution": {
     "iopub.execute_input": "2025-04-21T15:54:59.363637Z",
     "iopub.status.busy": "2025-04-21T15:54:59.363269Z",
     "iopub.status.idle": "2025-04-21T15:54:59.494924Z",
     "shell.execute_reply": "2025-04-21T15:54:59.493840Z",
     "shell.execute_reply.started": "2025-04-21T15:54:59.363612Z"
    },
    "trusted": true
   },
   "outputs": [],
   "source": [
    "instruction = \"\"\"You are a helpful chatbot that aids the user in performing statistical analysis of ski race results which are stored and you can update in a \n",
    "SQL database  You will take the users questions, search for the relevant data online, store them in SQL Databases and translate questions into SQL\n",
    "queries using the tools available. Once you have the information you need, you will\n",
    "answer the user's question using the data returned.\n",
    "\n",
    "Use list_tables to see what tables are present \n",
    "use describe_table to understand the schema, and execute_query to issue an SQL SELECT query.\n",
    "\n",
    "Women's results are stored in the SQL table WomenSL\n",
    "\n",
    "\n",
    "Use descriptive and inferential statistics in the scipy library to analyze data\n",
    "selecting the most appropriate method based on user's question and distriubtion of data\n",
    "assume race results are a population and not a sample\n",
    "\n",
    "\"\"\"\n",
    "\n",
    "client = genai.Client(api_key=GOOGLE_API_KEY)\n",
    "\n",
    "# Start a chat with automatic function calling enabled.\n",
    "chat = client.chats.create(\n",
    "    model=\"gemini-2.0-flash\",\n",
    "    config=types.GenerateContentConfig(\n",
    "        system_instruction=instruction,\n",
    "        tools=db_tools,\n",
    "    ),\n",
    ")"
   ]
  },
  {
   "cell_type": "markdown",
   "metadata": {},
   "source": [
    "### Retest \n",
    "<div class=\"alert alert-block alert-warning\">\n",
    "<b>Test 1:</b> without specific instructions guiding agent to which table holds women's results \n",
    "</div>"
   ]
  },
  {
   "cell_type": "code",
   "execution_count": 14,
   "metadata": {
    "execution": {
     "iopub.execute_input": "2025-04-21T15:55:04.090820Z",
     "iopub.status.busy": "2025-04-21T15:55:04.090495Z",
     "iopub.status.idle": "2025-04-21T15:55:07.715626Z",
     "shell.execute_reply": "2025-04-21T15:55:07.714654Z",
     "shell.execute_reply.started": "2025-04-21T15:55:04.090796Z"
    },
    "trusted": true
   },
   "outputs": [
    {
     "name": "stdout",
     "output_type": "stream",
     "text": [
      " - DB CALL: execute_query(SELECT skierName, time FROM WomenSL ORDER BY time ASC LIMIT 1)\n",
      " - DB CALL: describe_table(WomenSL)\n",
      " - DB CALL: execute_query(SELECT Skier_NME, TotalTime FROM WomenSL ORDER BY TotalTime ASC LIMIT 1)\n",
      "\n",
      "The fastest woman skier was Mikaela Shiffrin, with a total time of 105.92.\n",
      "\n"
     ]
    }
   ],
   "source": [
    "resp = chat.send_message(\"who was the fastes woman skier?\")\n",
    "print(f\"\\n{resp.text}\")"
   ]
  },
  {
   "cell_type": "code",
   "execution_count": 15,
   "metadata": {
    "execution": {
     "iopub.execute_input": "2025-04-21T15:55:10.740344Z",
     "iopub.status.busy": "2025-04-21T15:55:10.739259Z",
     "iopub.status.idle": "2025-04-21T15:55:12.089590Z",
     "shell.execute_reply": "2025-04-21T15:55:12.088598Z",
     "shell.execute_reply.started": "2025-04-21T15:55:10.740309Z"
    },
    "trusted": true
   },
   "outputs": [
    {
     "name": "stdout",
     "output_type": "stream",
     "text": [
      " - DB CALL: execute_query(SELECT Skier_NME, ABS(Run1 - Run2) AS TimeDifference FROM WomenSL ORDER BY TimeDifference DESC LIMIT 1)\n",
      "\n",
      "Lena Dürr's time varied the most between Run 1 and Run 2, with a difference of 2.05 seconds.\n",
      "\n"
     ]
    }
   ],
   "source": [
    "resp = chat.send_message(\"which women's time varied the most between run1 and run 2?\")\n",
    "print(f\"\\n{resp.text}\")"
   ]
  },
  {
   "cell_type": "markdown",
   "metadata": {},
   "source": [
    "### Test ability for generalization from Women's to Men's results\n",
    "having provided instructions for the location of women's results can the model generalize location of men's data?\n",
    "<div class=\"alert alert-block alert-warning\">\n",
    "<b>Test 2:</b> without specific instructions guiding agent to which table holds men's results <br>   \n",
    "<b> Prompt:</b> resp = chat.send_message(\"who was the fastes woman skier?\"\n",
    "</div>"
   ]
  },
  {
   "cell_type": "code",
   "execution_count": 16,
   "metadata": {
    "execution": {
     "iopub.execute_input": "2025-04-21T15:55:19.453988Z",
     "iopub.status.busy": "2025-04-21T15:55:19.453595Z",
     "iopub.status.idle": "2025-04-21T15:55:21.021708Z",
     "shell.execute_reply": "2025-04-21T15:55:21.020542Z",
     "shell.execute_reply.started": "2025-04-21T15:55:19.453957Z"
    },
    "trusted": true
   },
   "outputs": [
    {
     "name": "stdout",
     "output_type": "stream",
     "text": [
      "\n",
      "I do not have the table with the men's results. I can only access the WomenSL table. Would you like me to analyze the data from the women's results instead?\n",
      "\n"
     ]
    }
   ],
   "source": [
    "resp = chat.send_message(\"who was the fastest male Skier?\")\n",
    "print(f\"\\n{resp.text}\")"
   ]
  },
  {
   "cell_type": "markdown",
   "metadata": {},
   "source": [
    "### Tuning instructions adding men's results\n",
    "\n"
   ]
  },
  {
   "cell_type": "markdown",
   "metadata": {},
   "source": [
    "## Failure without Halucination\n",
    "<div class=\"alert alert-block alert-info\">\n",
    "<b>Result:</b> again the LLM could not decode menSL but this time did not halluciate a results table.<br>\n",
    "Correction: adding location to men's results with less specificity<br>\n",
    "Future Test: try including work 'Result' to table names to see if it aids LLM\n",
    "</div>"
   ]
  },
  {
   "cell_type": "code",
   "execution_count": 17,
   "metadata": {
    "execution": {
     "iopub.execute_input": "2025-04-21T15:55:29.537554Z",
     "iopub.status.busy": "2025-04-21T15:55:29.537122Z",
     "iopub.status.idle": "2025-04-21T15:55:29.673214Z",
     "shell.execute_reply": "2025-04-21T15:55:29.671666Z",
     "shell.execute_reply.started": "2025-04-21T15:55:29.537528Z"
    },
    "trusted": true
   },
   "outputs": [],
   "source": [
    "instruction = \"\"\"You are a helpful chatbot that aids the user in performing statistical analysis of ski race results which are stored and you can update in a \n",
    "SQL database  You will take the users questions, search for the relevant data online, store them in SQL Databases and translate questions into SQL\n",
    "queries using the tools available. Once you have the information you need, you will\n",
    "answer the user's question using the data returned.\n",
    "\n",
    "Use list_tables to see what tables are present \n",
    "use describe_table to understand the schema, and execute_query to issue an SQL SELECT query.\n",
    "\n",
    "Women's results are stored in the SQL table WomenSL\n",
    "Mens's results are in the table MenSL\n",
    "\n",
    "\n",
    "\"\"\"\n",
    "\n",
    "client = genai.Client(api_key=GOOGLE_API_KEY)\n",
    "\n",
    "# Start a chat with automatic function calling enabled.\n",
    "chat = client.chats.create(\n",
    "    model=\"gemini-2.0-flash\",\n",
    "    config=types.GenerateContentConfig(\n",
    "        system_instruction=instruction,\n",
    "        tools=db_tools,\n",
    "    ),\n",
    ")"
   ]
  },
  {
   "cell_type": "markdown",
   "metadata": {},
   "source": [
    "### Retest Men's Results"
   ]
  },
  {
   "cell_type": "code",
   "execution_count": 18,
   "metadata": {
    "execution": {
     "iopub.execute_input": "2025-04-21T15:55:40.110984Z",
     "iopub.status.busy": "2025-04-21T15:55:40.110651Z",
     "iopub.status.idle": "2025-04-21T15:55:44.308178Z",
     "shell.execute_reply": "2025-04-21T15:55:44.307115Z",
     "shell.execute_reply.started": "2025-04-21T15:55:40.110961Z"
    },
    "trusted": true
   },
   "outputs": [
    {
     "name": "stdout",
     "output_type": "stream",
     "text": [
      " - DB CALL: execute_query(SELECT Name, Time FROM MenSL ORDER BY Time ASC LIMIT 1)\n",
      " - DB CALL: describe_table(MenSL)\n",
      " - DB CALL: execute_query(SELECT Skier_NME, TotalTime FROM MenSL ORDER BY TotalTime ASC LIMIT 1)\n",
      "\n",
      "The fastest male skier was Timon Haugan.\n",
      "\n"
     ]
    }
   ],
   "source": [
    "resp = chat.send_message(\"who was the fastest male Skier?\")\n",
    "print(f\"\\n{resp.text}\")"
   ]
  },
  {
   "cell_type": "code",
   "execution_count": 19,
   "metadata": {
    "execution": {
     "iopub.execute_input": "2025-04-21T15:55:50.874184Z",
     "iopub.status.busy": "2025-04-21T15:55:50.873893Z",
     "iopub.status.idle": "2025-04-21T15:55:52.329340Z",
     "shell.execute_reply": "2025-04-21T15:55:52.328551Z",
     "shell.execute_reply.started": "2025-04-21T15:55:50.874160Z"
    },
    "trusted": true
   },
   "outputs": [
    {
     "name": "stdout",
     "output_type": "stream",
     "text": [
      "\n",
      "I am sorry, I cannot generate boxplots with the available tools. I can only execute SQL queries and do not have the functionality to create visualizations or run Python code outside of the provided tools.\n",
      "\n"
     ]
    }
   ],
   "source": [
    "resp = chat.send_message(\"can you generate the python code and show the men's and women's results as a boxplot?\")\n",
    "print(f\"\\n{resp.text}\")"
   ]
  },
  {
   "cell_type": "markdown",
   "metadata": {},
   "source": [
    "## Compositional function calling¶\n",
    "A powerful new feature in Gemini 2.0 is the model's ability to compose user-provided function calls together while generating code"
   ]
  },
  {
   "cell_type": "code",
   "execution_count": 20,
   "metadata": {
    "execution": {
     "iopub.execute_input": "2025-04-21T15:56:01.985910Z",
     "iopub.status.busy": "2025-04-21T15:56:01.985601Z",
     "iopub.status.idle": "2025-04-21T15:56:02.001917Z",
     "shell.execute_reply": "2025-04-21T15:56:02.000342Z",
     "shell.execute_reply.started": "2025-04-21T15:56:01.985888Z"
    },
    "trusted": true
   },
   "outputs": [],
   "source": [
    "from pprint import pformat\n",
    "from IPython.display import display, Image, Markdown\n",
    "\n",
    "\n",
    "async def handle_response(stream, tool_impl=None):\n",
    "  \"\"\"Stream output and handle any tool calls during the session.\"\"\"\n",
    "  all_responses = []\n",
    "\n",
    "  async for msg in stream.receive():\n",
    "    all_responses.append(msg)\n",
    "\n",
    "    if text := msg.text:\n",
    "      # Output any text chunks that are streamed back.\n",
    "      if len(all_responses) < 2 or not all_responses[-2].text:\n",
    "        # Display a header if this is the first text chunk.\n",
    "        display(Markdown('### Text'))\n",
    "\n",
    "      print(text, end='')\n",
    "\n",
    "    elif tool_call := msg.tool_call:\n",
    "      # Handle tool-call requests.\n",
    "      for fc in tool_call.function_calls:\n",
    "        display(Markdown('### Tool call'))\n",
    "\n",
    "        # Execute the tool and collect the result to return to the model.\n",
    "        if callable(tool_impl):\n",
    "          try:\n",
    "            result = tool_impl(**fc.args)\n",
    "          except Exception as e:\n",
    "            result = str(e)\n",
    "        else:\n",
    "          result = 'ok'\n",
    "\n",
    "        tool_response = types.LiveClientToolResponse(\n",
    "            function_responses=[types.FunctionResponse(\n",
    "                name=fc.name,\n",
    "                id=fc.id,\n",
    "                response={'result': result},\n",
    "            )]\n",
    "        )\n",
    "        await stream.send(input=tool_response)\n",
    "\n",
    "    elif msg.server_content and msg.server_content.model_turn:\n",
    "      # Print any messages showing code the model generated and ran.\n",
    "\n",
    "      for part in msg.server_content.model_turn.parts:\n",
    "          if code := part.executable_code:\n",
    "            display(Markdown(\n",
    "                f'### Code\\n```\\n{code.code}\\n```'))\n",
    "\n",
    "          elif result := part.code_execution_result:\n",
    "            display(Markdown(f'### Result: {result.outcome}\\n'\n",
    "                             f'```\\n{pformat(result.output)}\\n```'))\n",
    "\n",
    "          elif img := part.inline_data:\n",
    "            display(Image(img.data))\n",
    "\n",
    "  print()\n",
    "  return all_responses"
   ]
  },
  {
   "cell_type": "markdown",
   "metadata": {},
   "source": [
    "### Textual live database chat¶\n",
    "Now connect to the model and start a conversation.<br>\n",
    "Future state - convert to interacting looping chat bot"
   ]
  },
  {
   "cell_type": "code",
   "execution_count": 21,
   "metadata": {
    "execution": {
     "iopub.execute_input": "2025-04-21T15:56:17.682827Z",
     "iopub.status.busy": "2025-04-21T15:56:17.682392Z",
     "iopub.status.idle": "2025-04-21T15:56:17.836981Z",
     "shell.execute_reply": "2025-04-21T15:56:17.835729Z",
     "shell.execute_reply.started": "2025-04-21T15:56:17.682791Z"
    },
    "trusted": true
   },
   "outputs": [],
   "source": [
    "model = 'gemini-2.0-flash-exp'\n",
    "live_client = genai.Client(api_key=GOOGLE_API_KEY,\n",
    "                           http_options=types.HttpOptions(api_version='v1alpha'))\n",
    "\n",
    "# Wrap the existing execute_query tool you used in the earlier example.\n",
    "execute_query_tool_def = types.FunctionDeclaration.from_callable(\n",
    "    client=live_client, callable=execute_query)\n",
    "\n",
    "# Provide the model with enough information to use the tool, such as describing\n",
    "# the database so it understands which SQL syntax to use.\n",
    "sys_int = instruction\n",
    "\n",
    "config = {\n",
    "    \"response_modalities\": [\"TEXT\"],\n",
    "    \"system_instruction\": {\"parts\": [{\"text\": sys_int}]},\n",
    "    \"tools\": [\n",
    "        {\"code_execution\": {}},\n",
    "        {\"function_declarations\": [execute_query_tool_def.to_json_dict()]},\n",
    "    ],\n",
    "}\n",
    "\n"
   ]
  },
  {
   "cell_type": "markdown",
   "metadata": {},
   "source": [
    "# Use Case\n",
    "Testing to see if with minimal prompting the Agent can determine if there is a difference in the variance between men and women's slolom results in this year's (2025) world cup race.\n",
    "### World Cup Slalom\n",
    "Slalom events are constist of two runs, the skier with the lowest total time wins.  Men and Women, however, do not compete on the same course.  Men's events are longer with more gates resulting higher time than the women. \n",
    "### Statistical Analysis of Variance\n",
    "Analytically, we have two sets of data; men's results and women's results.  Proper analysis of the variance requires (as always) chosing the correct statistical tests\n",
    "### The Test\n",
    "Can the system select the correct test, explain why that test was chosen and return a correct analysis? "
   ]
  },
  {
   "cell_type": "markdown",
   "metadata": {},
   "source": [
    "### Simple analysis\n",
    "<div class=\"alert alert-block alert-warning\">\n",
    "<b>Test 1:</b> Can the system generate a box plot and provide analysis?\n",
    "</div>"
   ]
  },
  {
   "cell_type": "code",
   "execution_count": 23,
   "metadata": {
    "execution": {
     "iopub.execute_input": "2025-04-21T15:56:54.744859Z",
     "iopub.status.busy": "2025-04-21T15:56:54.744534Z",
     "iopub.status.idle": "2025-04-21T15:56:59.981388Z",
     "shell.execute_reply": "2025-04-21T15:56:59.980411Z",
     "shell.execute_reply.started": "2025-04-21T15:56:54.744836Z"
    },
    "trusted": true
   },
   "outputs": [
    {
     "name": "stdout",
     "output_type": "stream",
     "text": [
      "> Generate and run some code to plot the distribution the women's TotalTime as a box chart with matplotlib.pyplot\n",
      "\n"
     ]
    },
    {
     "data": {
      "text/markdown": [
       "### Text"
      ],
      "text/plain": [
       "<IPython.core.display.Markdown object>"
      ]
     },
     "metadata": {},
     "output_type": "display_data"
    },
    {
     "name": "stdout",
     "output_type": "stream",
     "text": [
      "I need to retrieve the TotalTime data from the WomenSL table first. Then I can use matplotlib to create a boxplot.\n"
     ]
    },
    {
     "data": {
      "text/markdown": [
       "### Code\n",
       "```\n",
       "import matplotlib.pyplot as plt\n",
       "import numpy as np\n",
       "\n",
       "sql = \"SELECT TotalTime FROM WomenSL\"\n",
       "results = default_api.execute_query(sql=sql)\n",
       "\n",
       "total_times = [float(row['TotalTime']) for row in results['data']]\n",
       "\n",
       "plt.boxplot(total_times)\n",
       "plt.ylabel('Total Time')\n",
       "plt.title('Distribution of Total Time for WomenSL')\n",
       "plt.show()\n",
       "\n",
       "```"
      ],
      "text/plain": [
       "<IPython.core.display.Markdown object>"
      ]
     },
     "metadata": {},
     "output_type": "display_data"
    },
    {
     "data": {
      "text/markdown": [
       "### Tool call"
      ],
      "text/plain": [
       "<IPython.core.display.Markdown object>"
      ]
     },
     "metadata": {},
     "output_type": "display_data"
    },
    {
     "name": "stdout",
     "output_type": "stream",
     "text": [
      " - DB CALL: execute_query(SELECT TotalTime FROM WomenSL)\n"
     ]
    },
    {
     "data": {
      "text/markdown": [
       "### Result: Outcome.OUTCOME_FAILED\n",
       "```\n",
       "('Traceback (most recent call last):\\n'\n",
       " '  File \"<string>\", line 50, in <module>\\n'\n",
       " \"KeyError: 'data'\\n\")\n",
       "```"
      ],
      "text/plain": [
       "<IPython.core.display.Markdown object>"
      ]
     },
     "metadata": {},
     "output_type": "display_data"
    },
    {
     "data": {
      "text/markdown": [
       "### Text"
      ],
      "text/plain": [
       "<IPython.core.display.Markdown object>"
      ]
     },
     "metadata": {},
     "output_type": "display_data"
    },
    {
     "name": "stdout",
     "output_type": "stream",
     "text": [
      "It seems like the query didn't return the data in the format I expected. I'll inspect the structure of the results from `default_api.execute_query` using `print(results)` to see how to properly access the data.\n"
     ]
    },
    {
     "data": {
      "text/markdown": [
       "### Code\n",
       "```\n",
       "sql = \"SELECT TotalTime FROM WomenSL\"\n",
       "results = default_api.execute_query(sql=sql)\n",
       "\n",
       "print(results)\n",
       "\n",
       "```"
      ],
      "text/plain": [
       "<IPython.core.display.Markdown object>"
      ]
     },
     "metadata": {},
     "output_type": "display_data"
    },
    {
     "data": {
      "text/markdown": [
       "### Tool call"
      ],
      "text/plain": [
       "<IPython.core.display.Markdown object>"
      ]
     },
     "metadata": {},
     "output_type": "display_data"
    },
    {
     "name": "stdout",
     "output_type": "stream",
     "text": [
      " - DB CALL: execute_query(SELECT TotalTime FROM WomenSL)\n"
     ]
    },
    {
     "data": {
      "text/markdown": [
       "### Result: Outcome.OUTCOME_OK\n",
       "```\n",
       "(\"{'result': [[105.92], [107.05], [107.3], [107.6], [107.9], [108.2], [108.5], \"\n",
       " '[108.8], [109.1], [109.4], [109.7], [110], [110.3], [110.6], [110.9], '\n",
       " '[111.2], [111.5], [111.8], [112.1], [112.5]]}\\n')\n",
       "```"
      ],
      "text/plain": [
       "<IPython.core.display.Markdown object>"
      ]
     },
     "metadata": {},
     "output_type": "display_data"
    },
    {
     "data": {
      "text/markdown": [
       "### Text"
      ],
      "text/plain": [
       "<IPython.core.display.Markdown object>"
      ]
     },
     "metadata": {},
     "output_type": "display_data"
    },
    {
     "name": "stdout",
     "output_type": "stream",
     "text": [
      "Okay, the data is in `results['result']`. I need to modify my code to extract the total times from this nested list.\n"
     ]
    },
    {
     "data": {
      "text/markdown": [
       "### Code\n",
       "```\n",
       "import matplotlib.pyplot as plt\n",
       "import numpy as np\n",
       "\n",
       "sql = \"SELECT TotalTime FROM WomenSL\"\n",
       "results = default_api.execute_query(sql=sql)\n",
       "\n",
       "total_times = [float(row[0]) for row in results['result']]\n",
       "\n",
       "plt.boxplot(total_times)\n",
       "plt.ylabel('Total Time')\n",
       "plt.title('Distribution of Total Time for WomenSL')\n",
       "plt.show()\n",
       "\n",
       "```"
      ],
      "text/plain": [
       "<IPython.core.display.Markdown object>"
      ]
     },
     "metadata": {},
     "output_type": "display_data"
    },
    {
     "data": {
      "text/markdown": [
       "### Tool call"
      ],
      "text/plain": [
       "<IPython.core.display.Markdown object>"
      ]
     },
     "metadata": {},
     "output_type": "display_data"
    },
    {
     "name": "stdout",
     "output_type": "stream",
     "text": [
      " - DB CALL: execute_query(SELECT TotalTime FROM WomenSL)\n"
     ]
    },
    {
     "data": {
      "image/png": "[encoded data removed]",
      "text/plain": [
       "<IPython.core.display.Image object>"
      ]
     },
     "metadata": {},
     "output_type": "display_data"
    },
    {
     "data": {
      "text/markdown": [
       "### Text"
      ],
      "text/plain": [
       "<IPython.core.display.Markdown object>"
      ]
     },
     "metadata": {},
     "output_type": "display_data"
    },
    {
     "name": "stdout",
     "output_type": "stream",
     "text": [
      "The boxplot of the total times for the women's slalom race has been generated and displayed. The plot shows the distribution of the total times, with the median around 109.5 seconds. The box represents the interquartile range (IQR), and the whiskers extend to the minimum and maximum values within 1.5 times the IQR. Any points outside the whiskers would be considered outliers.\n",
      "\n"
     ]
    }
   ],
   "source": [
    "async with live_client.aio.live.connect(model=model, config=config) as session:\n",
    "\n",
    "\n",
    "\n",
    "  message = \"Generate and run some code to plot the distribution the women's TotalTime as a box chart with matplotlib.pyplot\"\n",
    "\n",
    "  print(f\"> {message}\\n\")\n",
    "  await session.send(input=message, end_of_turn=True)\n",
    "  await handle_response(session, tool_impl=execute_query)"
   ]
  },
  {
   "cell_type": "code",
   "execution_count": 25,
   "metadata": {
    "execution": {
     "iopub.execute_input": "2025-04-21T15:59:37.983648Z",
     "iopub.status.busy": "2025-04-21T15:59:37.982787Z",
     "iopub.status.idle": "2025-04-21T15:59:48.160356Z",
     "shell.execute_reply": "2025-04-21T15:59:48.159531Z",
     "shell.execute_reply.started": "2025-04-21T15:59:37.983618Z"
    },
    "trusted": true
   },
   "outputs": [
    {
     "name": "stdout",
     "output_type": "stream",
     "text": [
      "> Generate and run code to conduct and anlysis of variance between the TotalTimes of mens' and women's results.  Be sure to indentify the statistical test used, include descriptive statistics measuring central tendency, normalcy testing of each distribution and \n",
      "\n"
     ]
    },
    {
     "data": {
      "text/markdown": [
       "### Text"
      ],
      "text/plain": [
       "<IPython.core.display.Markdown object>"
      ]
     },
     "metadata": {},
     "output_type": "display_data"
    },
    {
     "name": "stdout",
     "output_type": "stream",
     "text": [
      "I need to perform an ANOVA to compare the TotalTimes of men's and women's ski race results. This requires several steps:\n",
      "\n",
      "1.  **Data Retrieval:** I need to extract the TotalTime data from both the `WomenSL` and `MenSL` tables.\n",
      "2.  **Descriptive Statistics:** Calculate descriptive statistics (mean, median, standard deviation) for both groups.\n",
      "3.  **Normality Testing:**  Test if the TotalTime distributions for both men and women are approximately normally distributed. This is an assumption of ANOVA. I can use the Shapiro-Wilk test.\n",
      "4.  **Homogeneity of Variance Testing:** Test if the variances of TotalTime are equal between the two groups. This is another assumption of ANOVA. I can use Levene's test or Bartlett's test.\n",
      "5.  **ANOVA:** Perform the ANOVA test.\n",
      "6.  **Report:** Present the results, including the descriptive statistics, normality test results, homogeneity of variance test results, the ANOVA table, and a conclusion about whether there is a significant difference between the TotalTimes.\n",
      "\n",
      "Here's the plan: I'll start by retrieving the data and calculating descriptive statistics. Then I will perform the normalcy tests, and finally the ANOVA.\n",
      "\n"
     ]
    },
    {
     "data": {
      "text/markdown": [
       "### Code\n",
       "```\n",
       "import pandas as pd\n",
       "from scipy import stats\n",
       "\n",
       "# Retrieve data from the database\n",
       "query_women = \"SELECT TotalTime FROM WomenSL\"\n",
       "query_men = \"SELECT TotalTime FROM MenSL\"\n",
       "\n",
       "women_results = default_api.execute_query(sql=query_women)\n",
       "men_results = default_api.execute_query(sql=query_men)\n",
       "\n",
       "# Convert the results to Pandas DataFrames\n",
       "women_df = pd.DataFrame(women_results['data'])\n",
       "men_df = pd.DataFrame(men_results['data'])\n",
       "\n",
       "# Descriptive statistics\n",
       "women_mean = women_df['TotalTime'].mean()\n",
       "women_median = women_df['TotalTime'].median()\n",
       "women_std = women_df['TotalTime'].std()\n",
       "\n",
       "men_mean = men_df['TotalTime'].mean()\n",
       "men_median = men_df['TotalTime'].median()\n",
       "men_std = men_df['TotalTime'].std()\n",
       "\n",
       "print(\"Women's Descriptive Statistics:\")\n",
       "print(f\"  Mean: {women_mean}\")\n",
       "print(f\"  Median: {women_median}\")\n",
       "print(f\"  Standard Deviation: {women_std}\")\n",
       "\n",
       "print(\"\\nMen's Descriptive Statistics:\")\n",
       "print(f\"  Mean: {men_mean}\")\n",
       "print(f\"  Median: {men_median}\")\n",
       "print(f\"  Standard Deviation: {men_std}\")\n",
       "\n",
       "# Normality tests (Shapiro-Wilk)\n",
       "women_shapiro = stats.shapiro(women_df['TotalTime'])\n",
       "men_shapiro = stats.shapiro(men_df['TotalTime'])\n",
       "\n",
       "print(\"\\nWomen's Shapiro-Wilk Test:\")\n",
       "print(f\"  Statistic: {women_shapiro.statistic}\")\n",
       "print(f\"  p-value: {women_shapiro.pvalue}\")\n",
       "\n",
       "print(\"\\nMen's Shapiro-Wilk Test:\")\n",
       "print(f\"  Statistic: {men_shapiro.statistic}\")\n",
       "print(f\"  p-value: {men_shapiro.pvalue}\")\n",
       "\n",
       "```"
      ],
      "text/plain": [
       "<IPython.core.display.Markdown object>"
      ]
     },
     "metadata": {},
     "output_type": "display_data"
    },
    {
     "data": {
      "text/markdown": [
       "### Tool call"
      ],
      "text/plain": [
       "<IPython.core.display.Markdown object>"
      ]
     },
     "metadata": {},
     "output_type": "display_data"
    },
    {
     "name": "stdout",
     "output_type": "stream",
     "text": [
      " - DB CALL: execute_query(SELECT TotalTime FROM WomenSL)\n"
     ]
    },
    {
     "data": {
      "text/markdown": [
       "### Tool call"
      ],
      "text/plain": [
       "<IPython.core.display.Markdown object>"
      ]
     },
     "metadata": {},
     "output_type": "display_data"
    },
    {
     "name": "stdout",
     "output_type": "stream",
     "text": [
      " - DB CALL: execute_query(SELECT TotalTime FROM MenSL)\n"
     ]
    },
    {
     "data": {
      "text/markdown": [
       "### Result: Outcome.OUTCOME_FAILED\n",
       "```\n",
       "('Traceback (most recent call last):\\n'\n",
       " '  File \"<string>\", line 55, in <module>\\n'\n",
       " \"KeyError: 'data'\\n\")\n",
       "```"
      ],
      "text/plain": [
       "<IPython.core.display.Markdown object>"
      ]
     },
     "metadata": {},
     "output_type": "display_data"
    },
    {
     "data": {
      "text/markdown": [
       "### Text"
      ],
      "text/plain": [
       "<IPython.core.display.Markdown object>"
      ]
     },
     "metadata": {},
     "output_type": "display_data"
    },
    {
     "name": "stdout",
     "output_type": "stream",
     "text": [
      "It appears there was an error in accessing the data from the database. The error message `KeyError: 'data'` suggests that the dictionaries returned by `default_api.execute_query` do not have a key named 'data'. I need to inspect the structure of the output from `default_api.execute_query` to correctly extract the data. Let me try printing the keys of one of the returned dictionaries.\n",
      "\n"
     ]
    },
    {
     "data": {
      "text/markdown": [
       "### Code\n",
       "```\n",
       "query_women = \"SELECT TotalTime FROM WomenSL\"\n",
       "women_results = default_api.execute_query(sql=query_women)\n",
       "\n",
       "print(women_results.keys())\n",
       "\n",
       "```"
      ],
      "text/plain": [
       "<IPython.core.display.Markdown object>"
      ]
     },
     "metadata": {},
     "output_type": "display_data"
    },
    {
     "data": {
      "text/markdown": [
       "### Tool call"
      ],
      "text/plain": [
       "<IPython.core.display.Markdown object>"
      ]
     },
     "metadata": {},
     "output_type": "display_data"
    },
    {
     "name": "stdout",
     "output_type": "stream",
     "text": [
      " - DB CALL: execute_query(SELECT TotalTime FROM WomenSL)\n"
     ]
    },
    {
     "data": {
      "text/markdown": [
       "### Result: Outcome.OUTCOME_OK\n",
       "```\n",
       "\"dict_keys(['result'])\\n\"\n",
       "```"
      ],
      "text/plain": [
       "<IPython.core.display.Markdown object>"
      ]
     },
     "metadata": {},
     "output_type": "display_data"
    },
    {
     "data": {
      "text/markdown": [
       "### Text"
      ],
      "text/plain": [
       "<IPython.core.display.Markdown object>"
      ]
     },
     "metadata": {},
     "output_type": "display_data"
    },
    {
     "name": "stdout",
     "output_type": "stream",
     "text": [
      "Okay, the output of `default_api.execute_query` has a key called `result`, not `data`. I need to modify my code to access the data using this key. I also need to be mindful that the data within `result` might be structured in a way that needs further processing. I will revise the code to access `women_results['result']` and `men_results['result']`. I will also print out the first few rows to see the structure of the returned data.\n",
      "\n"
     ]
    },
    {
     "data": {
      "text/markdown": [
       "### Code\n",
       "```\n",
       "import pandas as pd\n",
       "from scipy import stats\n",
       "\n",
       "# Retrieve data from the database\n",
       "query_women = \"SELECT TotalTime FROM WomenSL\"\n",
       "query_men = \"SELECT TotalTime FROM MenSL\"\n",
       "\n",
       "women_results = default_api.execute_query(sql=query_women)\n",
       "men_results = default_api.execute_query(sql=query_men)\n",
       "\n",
       "# Convert the results to Pandas DataFrames\n",
       "women_df = pd.DataFrame(women_results['result'])\n",
       "men_df = pd.DataFrame(men_results['result'])\n",
       "\n",
       "print(\"Women's data sample:\")\n",
       "print(women_df.head())\n",
       "\n",
       "print(\"\\nMen's data sample:\")\n",
       "print(men_df.head())\n",
       "\n",
       "# Descriptive statistics\n",
       "women_mean = women_df['TotalTime'].mean()\n",
       "women_median = women_df['TotalTime'].median()\n",
       "women_std = women_df['TotalTime'].std()\n",
       "\n",
       "men_mean = men_df['TotalTime'].mean()\n",
       "men_median = men_df['TotalTime'].median()\n",
       "men_std = men_df['TotalTime'].std()\n",
       "\n",
       "print(\"\\nWomen's Descriptive Statistics:\")\n",
       "print(f\"  Mean: {women_mean}\")\n",
       "print(f\"  Median: {women_median}\")\n",
       "print(f\"  Standard Deviation: {women_std}\")\n",
       "\n",
       "print(\"\\nMen's Descriptive Statistics:\")\n",
       "print(f\"  Mean: {men_mean}\")\n",
       "print(f\"  Median: {men_median}\")\n",
       "print(f\"  Standard Deviation: {men_std}\")\n",
       "\n",
       "# Normality tests (Shapiro-Wilk)\n",
       "women_shapiro = stats.shapiro(women_df['TotalTime'])\n",
       "men_shapiro = stats.shapiro(men_df['TotalTime'])\n",
       "\n",
       "print(\"\\nWomen's Shapiro-Wilk Test:\")\n",
       "print(f\"  Statistic: {women_shapiro.statistic}\")\n",
       "print(f\"  p-value: {women_shapiro.pvalue}\")\n",
       "\n",
       "print(\"\\nMen's Shapiro-Wilk Test:\")\n",
       "print(f\"  Statistic: {men_shapiro.statistic}\")\n",
       "print(f\"  p-value: {men_shapiro.pvalue}\")\n",
       "\n",
       "```"
      ],
      "text/plain": [
       "<IPython.core.display.Markdown object>"
      ]
     },
     "metadata": {},
     "output_type": "display_data"
    },
    {
     "data": {
      "text/markdown": [
       "### Tool call"
      ],
      "text/plain": [
       "<IPython.core.display.Markdown object>"
      ]
     },
     "metadata": {},
     "output_type": "display_data"
    },
    {
     "name": "stdout",
     "output_type": "stream",
     "text": [
      " - DB CALL: execute_query(SELECT TotalTime FROM WomenSL)\n"
     ]
    },
    {
     "data": {
      "text/markdown": [
       "### Tool call"
      ],
      "text/plain": [
       "<IPython.core.display.Markdown object>"
      ]
     },
     "metadata": {},
     "output_type": "display_data"
    },
    {
     "name": "stdout",
     "output_type": "stream",
     "text": [
      " - DB CALL: execute_query(SELECT TotalTime FROM MenSL)\n"
     ]
    },
    {
     "data": {
      "text/markdown": [
       "### Result: Outcome.OUTCOME_OK\n",
       "```\n",
       "(\"Women's data sample:\\n\"\n",
       " '        0\\n'\n",
       " '0  105.92\\n'\n",
       " '1  107.05\\n'\n",
       " '2  107.30\\n'\n",
       " '3  107.60\\n'\n",
       " '4  107.90\\n'\n",
       " '\\n'\n",
       " \"Men's data sample:\\n\"\n",
       " '         0\\n'\n",
       " '0  2:00.57\\n'\n",
       " '1  2:00.60\\n'\n",
       " '2  2:01.00\\n'\n",
       " '3  2:01.20\\n'\n",
       " '4  2:01.50\\n')\n",
       "```"
      ],
      "text/plain": [
       "<IPython.core.display.Markdown object>"
      ]
     },
     "metadata": {},
     "output_type": "display_data"
    },
    {
     "data": {
      "text/markdown": [
       "### Result: Outcome.OUTCOME_FAILED\n",
       "```\n",
       "('Traceback (most recent call last):\\n'\n",
       " '  File \"<string>\", line 65, in <module>\\n'\n",
       " '  File \"frame.py\", line 4102, in __getitem__\\n'\n",
       " '    indexer = self.columns.get_loc(key)\\n'\n",
       " '              ^^^^^^^^^^^^^^^^^^^^^^^^^\\n'\n",
       " '  File \"range.py\", line 417, in get_loc\\n'\n",
       " '    raise KeyError(key)\\n'\n",
       " \"KeyError: 'TotalTime'\\n\")\n",
       "```"
      ],
      "text/plain": [
       "<IPython.core.display.Markdown object>"
      ]
     },
     "metadata": {},
     "output_type": "display_data"
    },
    {
     "data": {
      "text/markdown": [
       "### Text"
      ],
      "text/plain": [
       "<IPython.core.display.Markdown object>"
      ]
     },
     "metadata": {},
     "output_type": "display_data"
    },
    {
     "name": "stdout",
     "output_type": "stream",
     "text": [
      "The code is still failing because it's trying to access the column named 'TotalTime', but the column is actually named '0' in the DataFrames. Also, the Men's TotalTime is in `mm:ss.SS` format. I need to convert them to seconds.\n",
      "\n"
     ]
    },
    {
     "data": {
      "text/markdown": [
       "### Code\n",
       "```\n",
       "import pandas as pd\n",
       "from scipy import stats\n",
       "import numpy as np\n",
       "\n",
       "# Retrieve data from the database\n",
       "query_women = \"SELECT TotalTime FROM WomenSL\"\n",
       "query_men = \"SELECT TotalTime FROM MenSL\"\n",
       "\n",
       "women_results = default_api.execute_query(sql=query_women)\n",
       "men_results = default_api.execute_query(sql=query_men)\n",
       "\n",
       "# Convert the results to Pandas DataFrames\n",
       "women_df = pd.DataFrame(women_results['result'])\n",
       "men_df = pd.DataFrame(men_results['result'])\n",
       "\n",
       "# Convert Men's time to seconds\n",
       "def time_to_seconds(time_str):\n",
       "    if isinstance(time_str, str):\n",
       "        minutes, seconds = map(float, time_str.split(':'))\n",
       "        return minutes * 60 + seconds\n",
       "    else:\n",
       "        return time_str  # Handle potential numeric values or NaNs\n",
       "\n",
       "men_df['TotalTime_seconds'] = men_df[0].apply(time_to_seconds)\n",
       "\n",
       "# Rename women's column for consistency and clarity\n",
       "women_df = women_df.rename(columns={0: 'TotalTime'})\n",
       "\n",
       "print(\"Women's data sample:\")\n",
       "print(women_df.head())\n",
       "\n",
       "print(\"\\nMen's data sample:\")\n",
       "print(men_df.head())\n",
       "\n",
       "# Descriptive statistics\n",
       "women_mean = women_df['TotalTime'].mean()\n",
       "women_median = women_df['TotalTime'].median()\n",
       "women_std = women_df['TotalTime'].std()\n",
       "\n",
       "men_mean = men_df['TotalTime_seconds'].mean()\n",
       "men_median = men_df['TotalTime_seconds'].median()\n",
       "men_std = men_df['TotalTime_seconds'].std()\n",
       "\n",
       "print(\"\\nWomen's Descriptive Statistics:\")\n",
       "print(f\"  Mean: {women_mean}\")\n",
       "print(f\"  Median: {women_median}\")\n",
       "print(f\"  Standard Deviation: {women_std}\")\n",
       "\n",
       "print(\"\\nMen's Descriptive Statistics:\")\n",
       "print(f\"  Mean: {men_mean}\")\n",
       "print(f\"  Median: {men_median}\")\n",
       "print(f\"  Standard Deviation: {men_std}\")\n",
       "\n",
       "# Normality tests (Shapiro-Wilk)\n",
       "women_shapiro = stats.shapiro(women_df['TotalTime'])\n",
       "men_shapiro = stats.shapiro(men_df['TotalTime_seconds'])\n",
       "\n",
       "print(\"\\nWomen's Shapiro-Wilk Test:\")\n",
       "print(f\"  Statistic: {women_shapiro.statistic}\")\n",
       "print(f\"  p-value: {women_shapiro.pvalue}\")\n",
       "\n",
       "print(\"\\nMen's Shapiro-Wilk Test:\")\n",
       "print(f\"  Statistic: {men_shapiro.statistic}\")\n",
       "print(f\"  p-value: {men_shapiro.pvalue}\")\n",
       "\n",
       "```"
      ],
      "text/plain": [
       "<IPython.core.display.Markdown object>"
      ]
     },
     "metadata": {},
     "output_type": "display_data"
    },
    {
     "data": {
      "text/markdown": [
       "### Tool call"
      ],
      "text/plain": [
       "<IPython.core.display.Markdown object>"
      ]
     },
     "metadata": {},
     "output_type": "display_data"
    },
    {
     "name": "stdout",
     "output_type": "stream",
     "text": [
      " - DB CALL: execute_query(SELECT TotalTime FROM WomenSL)\n"
     ]
    },
    {
     "data": {
      "text/markdown": [
       "### Tool call"
      ],
      "text/plain": [
       "<IPython.core.display.Markdown object>"
      ]
     },
     "metadata": {},
     "output_type": "display_data"
    },
    {
     "name": "stdout",
     "output_type": "stream",
     "text": [
      " - DB CALL: execute_query(SELECT TotalTime FROM MenSL)\n"
     ]
    },
    {
     "data": {
      "text/markdown": [
       "### Result: Outcome.OUTCOME_OK\n",
       "```\n",
       "(\"Women's data sample:\\n\"\n",
       " '   TotalTime\\n'\n",
       " '0     105.92\\n'\n",
       " '1     107.05\\n'\n",
       " '2     107.30\\n'\n",
       " '3     107.60\\n'\n",
       " '4     107.90\\n'\n",
       " '\\n'\n",
       " \"Men's data sample:\\n\"\n",
       " '         0  TotalTime_seconds\\n'\n",
       " '0  2:00.57             120.57\\n'\n",
       " '1  2:00.60             120.60\\n'\n",
       " '2  2:01.00             121.00\\n'\n",
       " '3  2:01.20             121.20\\n'\n",
       " '4  2:01.50             121.50\\n'\n",
       " '\\n'\n",
       " \"Women's Descriptive Statistics:\\n\"\n",
       " '  Mean: 109.51849999999999\\n'\n",
       " '  Median: 109.55000000000001\\n'\n",
       " '  Standard Deviation: 1.852623388887399\\n'\n",
       " '\\n'\n",
       " \"Men's Descriptive Statistics:\\n\"\n",
       " '  Mean: 122.46684210526318\\n'\n",
       " '  Median: 122.5\\n'\n",
       " '  Standard Deviation: 1.175065258857184\\n'\n",
       " '\\n'\n",
       " \"Women's Shapiro-Wilk Test:\\n\"\n",
       " '  Statistic: 0.9769861386959564\\n'\n",
       " '  p-value: 0.8895565286568422\\n'\n",
       " '\\n'\n",
       " \"Men's Shapiro-Wilk Test:\\n\"\n",
       " '  Statistic: 0.960657618519764\\n'\n",
       " '  p-value: 0.5854042674875388\\n')\n",
       "```"
      ],
      "text/plain": [
       "<IPython.core.display.Markdown object>"
      ]
     },
     "metadata": {},
     "output_type": "display_data"
    },
    {
     "name": "stdout",
     "output_type": "stream",
     "text": [
      "\n"
     ]
    }
   ],
   "source": [
    "async with live_client.aio.live.connect(model=model, config=config) as session:\n",
    "\n",
    "\n",
    "\n",
    "  message = \"Generate and run code to conduct and anlysis of variance between the TotalTimes of mens' and women's results.  Be sure to indentify the statistical test used, include descriptive statistics measuring central tendency, normalcy testing of each distribution and \"\n",
    "\n",
    "  print(f\"> {message}\\n\")\n",
    "  await session.send(input=message, end_of_turn=True)\n",
    "  await handle_response(session, tool_impl=execute_query)"
   ]
  },
  {
   "cell_type": "markdown",
   "metadata": {},
   "source": []
  },
  {
   "cell_type": "markdown",
   "metadata": {},
   "source": [
    "# Results\n",
    "<div class=\"alert alert-block alert-danger\">\n",
    "<b>BLUF:</b> Failure. <br> \n",
    "    The system failed to understand the ask and selected the wrong test.  ANOVA will only tell us if the two sets of data are from the same population which they are.  <br>  \n",
    "</div>"
   ]
  },
  {
   "cell_type": "markdown",
   "metadata": {},
   "source": [
    "# Discusion\n",
    "# Discussion and Next Steps\n",
    " -   Chosing the Correct Test\n",
    "      -  Grounding - may provide additional context for understanding that men and women results are distinct sets known to be different populations\n",
    "      -  Prompt Engineering - COT prompting may lead the agent to the correct the method as it will have to consider which test\n",
    " - Interesting Results\n",
    "     - The system self corrected the building of the data frame from SQL table to include lables\n",
    "     - Correctly provided summary statistics\n",
    "\n",
    "I think with some fine tuning and grounding this will become a viable solution"
   ]
  },
  {
   "cell_type": "markdown",
   "metadata": {},
   "source": [
    "### Author  \n",
    "**Shannon O'Donovan**  \n",
    "Data Science | AI & Salesforce Architect  \n",
    "📧 [shannon@example.com](mailto:shannon.od3.dev@gmail.com)  \n",
    "🌐 [linkedin.com/in/shannonodonovan](https://linkedin.com/in/shannonodonovan)  \n"
   ]
  },
  {
   "cell_type": "code",
   "execution_count": null,
   "metadata": {
    "trusted": true
   },
   "outputs": [],
   "source": []
  }
 ],
 "metadata": {
  "kaggle": {
   "accelerator": "none",
   "dataSources": [],
   "dockerImageVersionId": 31012,
   "isGpuEnabled": false,
   "isInternetEnabled": true,
   "language": "python",
   "sourceType": "notebook"
  },
  "kernelspec": {
   "display_name": "Python 3",
   "language": "python",
   "name": "python3"
  },
  "language_info": {
   "codemirror_mode": {
    "name": "ipython",
    "version": 3
   },
   "file_extension": ".py",
   "mimetype": "text/x-python",
   "name": "python",
   "nbconvert_exporter": "python",
   "pygments_lexer": "ipython3",
   "version": "3.11.11"
  }
 },
 "nbformat": 4,
 "nbformat_minor": 4
}
